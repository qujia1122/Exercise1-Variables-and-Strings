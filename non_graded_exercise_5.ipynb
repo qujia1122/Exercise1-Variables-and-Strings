{
 "cells": [
  {
   "cell_type": "markdown",
   "metadata": {},
   "source": [
    "AIM #1: Loading the dataset and printing basic information \n",
    "1. Import the Titanic dataset using pandas\n",
    "2. Create a Dataframe from the dataset\n",
    "3. Print the first 10 rows of the dataset\n",
    "4. Print the last 20 rows of the dataset\n",
    "5. Print dataset's information\n",
    "6. Describe the dataset\n",
    "7. Make sure all the information returned by the different functions are displayed in a single table and not on multiple ines"
   ]
  },
  {
   "cell_type": "code",
   "execution_count": null,
   "metadata": {
    "is_executing": true
   },
   "outputs": [],
   "source": [
    "import pandas as pd\n",
    "\n",
    "# Load the dataset\n",
    "df = pd.read_csv('titanic.csv')\n",
    "\n",
    "# Print the first 10 rows\n",
    "print(\"First 10 rows:\")\n",
    "print(df.head(10))\n",
    "\n",
    "# Print the last 20 rows\n",
    "print(\"\\nLast 20 rows:\")\n",
    "print(df.tail(20))\n",
    "\n",
    "# Print dataset information\n",
    "print(\"\\nDataset information:\")\n",
    "print(df.info())\n",
    "\n",
    "# Describe the dataset\n",
    "print(\"\\nDataset description:\")\n",
    "print(df.describe())"
   ]
  },
  {
   "cell_type": "markdown",
   "metadata": {},
   "source": [
    "AIM #2: Finding issues (empty, NAs, incorrect value, incorrect format, outliers, etc.) \n",
    "1. Find out how many missing values there are in the dataset\n",
    "2. For the 'Age' column, find the best way to handle the missing values\n",
    "    2.1. Use an appropriate plot to study the nature of the 'Age' column\n",
    "    2.2. Figure out what is the best way to calculate the central tendency of the 'Age' column based on the above plot\n",
    "    2.3. Using the most suitable central tendency measure, fill the missing values in the age column\n",
    "3. Decide what is the best way to handle the missing values in the 'Cabin' columns\n",
    "4. Similarly, decide what is the best way to handle the missing values in the 'Embarked' columns\n",
    "5. Handle the incorrect data under the 'Survived' columns using appropriate measure\n",
    "6. Handle the incorrectly formatted data under the 'Fare' column\n"
   ]
  },
  {
   "cell_type": "code",
   "execution_count": null,
   "metadata": {
    "is_executing": true
   },
   "outputs": [],
   "source": [
    "# Calculate the number of missing values\n",
    "print(\"\\nMissing values count:\")\n",
    "print(df.isnull().sum())\n",
    "\n",
    "# Handle 'Age' column\n",
    "import seaborn as sns\n",
    "import matplotlib.pyplot as plt\n",
    "\n",
    "# 2.1 Plot the distribution of the 'Age' column\n",
    "plt.figure(figsize=(10,6))\n",
    "sns.histplot(df['Age'].dropna(), bins=30, kde=True)\n",
    "plt.title('Age Distribution')\n",
    "plt.show()\n",
    "\n",
    "# 2.2 Calculate the median\n",
    "median_age = df['Age'].median()\n",
    "print(f\"\\nMedian Age: {median_age}\")\n",
    "\n",
    "# 2.3 Fill missing 'Age' values\n",
    "df['Age'].fillna(median_age, inplace=True)\n",
    "\n",
    "# Handle 'Cabin' column missing values\n",
    "# Usually fill with the most frequent value or 'Unspecified'\n",
    "most_common_cabin = df['Cabin'].mode()[0]\n",
    "df['Cabin'].fillna(most_common_cabin, inplace=True)\n",
    "\n",
    "# Handle 'Embarked' column\n",
    "# Fill with the most frequent value\n",
    "most_common_embarked = df['Embarked'].mode()[0]\n",
    "df['Embarked'].fillna(most_common_embarked, inplace=True)\n",
    "\n",
    "# Handle incorrect data under 'Survived' column\n",
    "# Ensure all values are 0 or 1\n",
    "df['Survived'] = df['Survived'].astype(int)\n",
    "\n",
    "# Handle incorrectly formatted data under 'Fare' column\n",
    "# Ensure all values are numeric\n",
    "df['Fare'] = df['Fare'].replace('[\\$,]', '', regex=True).astype(float)"
   ]
  },
  {
   "cell_type": "markdown",
   "metadata": {},
   "source": [
    "AIM #3: Grouping \n",
    "1. Find out the average fare grouped by Pclass\n",
    "    1.1. Plot the above using a suitable plot\n",
    "2. Find out the average fare grouped by Sex\n",
    "    2.1. Plot the above using a suitable plot"
   ]
  },
  {
   "cell_type": "code",
   "execution_count": null,
   "metadata": {
    "is_executing": true
   },
   "outputs": [],
   "source": [
    "# Calculate the average fare grouped by 'Pclass'\n",
    "average_fare_pclass = df.groupby('Pclass')['Fare'].mean()\n",
    "print(\"\\nAverage fare by Pclass:\")\n",
    "print(average_fare_pclass)\n",
    "sns.barplot(x='Pclass', y='Fare', data=df)\n",
    "plt.show()\n",
    "\n",
    "# Calculate the average fare grouped by 'Sex'\n",
    "average_fare_sex = df.groupby('Sex')['Fare'].mean()\n",
    "print(\"\\nAverage fare by Sex:\")\n",
    "print(average_fare_sex)\n",
    "sns.barplot(x='Sex', y='Fare', data=df)\n",
    "plt.show()"
   ]
  },
  {
   "cell_type": "markdown",
   "metadata": {},
   "source": [
    "AIM #4: Dataset visualization using pandas\n",
    "\n",
    "1. Plot the distribution of 'Age' using a suitable plot\n",
    "2. Plot the distribution of 'Fare' using a suitable plot\n",
    "3. Plot the distribution of 'Pclass' using a suitable plot\n",
    "4. Plot the distribution of 'Survived' using a suitable plot\n",
    "5. Plot the distribution of 'Embarked' using a suitable plot\n",
    "6. Plot the distribution of 'Fare' grouped by 'Survived'\n",
    "7. Plot the distribution of 'Fare' grouped by 'Pclass'\n",
    "8. Plot the distribution of 'Age' grouped by 'Survived'\n",
    "9. Plot the distribution of 'Age' grouped by 'PClass'\n",
    "10. Combine the 'SibSp' and 'Parch' and plot its distribution grouped by 'Survived'\n",
    "11. Combine the 'SibSp' and 'Parch' and plot its distribution grouped by 'Pclass'\n",
    "12. Plot a distribution between 'Age' and 'Fare' to see if there's any relationship\n",
    "13. Are there any other possibilities to show relationships?"
   ]
  },
  {
   "cell_type": "code",
   "execution_count": null,
   "metadata": {
    "is_executing": true
   },
   "outputs": [],
   "source": [
    "# Plot various distributions\n",
    "variables = ['Age', 'Fare', 'Pclass', 'Survived', 'Embarked']\n",
    "for var in variables:\n",
    "    plt.figure(figsize=(10,6))\n",
    "    sns.histplot(df[var], kde=True)\n",
    "    plt.title(f'Distribution of {var}')\n",
    "    plt.show()\n",
    "\n",
    "# Grouped plots\n",
    "grouped_vars = [('Survived', 'Fare'), ('Pclass', 'Fare'), ('Survived', 'Age'), ('Pclass', 'Age')]\n",
    "for gvar, yvar in grouped_vars:\n",
    "    plt.figure(figsize=(10,6))\n",
    "    sns.barplot(x=gvar, y=yvar, data=df)\n",
    "    plt.title(f'Distribution of {yvar} grouped by {gvar}')\n",
    "    plt.show()\n",
    "\n",
    "# Combine 'SibSp' and 'Parch'\n",
    "df['FamilySize'] = df['SibSp'] + df['Parch'] + 1\n",
    "sns.barplot(x='Survived', y='FamilySize', data=df)\n",
    "plt.title('Family Size Distribution Grouped by Survival')\n",
    "plt.show()\n",
    "\n",
    "sns.barplot(x='Pclass', y='FamilySize', data=df)\n",
    "plt.title('Family Size Distribution Grouped by Pclass')\n",
    "plt.show()\n",
    "\n",
    "# Plot a distribution between 'Age' and 'Fare' to see if there's any relationship\n",
    "plt.figure(figsize=(10,6))\n",
    "sns.scatterplot(x='Age', y='Fare', data=df)\n",
    "plt.title('Age vs Fare')\n",
    "plt.show()"
   ]
  },
  {
   "cell_type": "markdown",
   "metadata": {},
   "source": [
    "AIM #5: Correlation\n",
    "\n",
    "1. Generate a correlation matrix for the entire dataset\n",
    "2. Find correlation between 'Age' and 'Fare'\n",
    "3. What other possible correlations can be found in the dataset?"
   ]
  },
  {
   "cell_type": "code",
   "execution_count": null,
   "metadata": {
    "is_executing": true
   },
   "outputs": [],
   "source": [
    "# Generate a correlation matrix\n",
    "corr_matrix = df.corr()\n",
    "print(\"\\nCorrelation matrix:\")\n",
    "print(corr_matrix)\n",
    "\n",
    "# Find the correlation between 'Age' and 'Fare'\n",
    "age_fare_corr = corr_matrix['Age']['Fare']\n",
    "print(f\"\\nCorrelation between Age and Fare: {age_fare_corr}\")"
   ]
  }
 ],
 "metadata": {
  "kernelspec": {
   "display_name": "Python 3",
   "language": "python",
   "name": "python3"
  },
  "language_info": {
   "codemirror_mode": {
    "name": "ipython",
    "version": 3
   },
   "file_extension": ".py",
   "mimetype": "text/x-python",
   "name": "python",
   "nbconvert_exporter": "python",
   "pygments_lexer": "ipython3",
   "version": "3.11.5"
  }
 },
 "nbformat": 4,
 "nbformat_minor": 2
}
